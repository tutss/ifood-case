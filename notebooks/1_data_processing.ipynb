{
 "cells": [
  {
   "cell_type": "code",
   "execution_count": 0,
   "metadata": {
    "application/vnd.databricks.v1+cell": {
     "cellMetadata": {
      "byteLimit": 2048000,
      "rowLimit": 10000
     },
     "inputWidgets": {},
     "nuid": "5ec473cc-fd69-426d-a5a8-4bdd24d9d475",
     "showTitle": false,
     "tableResultSettingsMap": {},
     "title": ""
    }
   },
   "outputs": [],
   "source": [
    "import os\n",
    "from datetime import datetime\n",
    "from pyspark.sql import SparkSession\n",
    "from pyspark.sql.functions import *\n",
    "from pyspark.sql.types import *\n",
    "from pyspark.sql.window import Window"
   ]
  },
  {
   "cell_type": "code",
   "execution_count": 0,
   "metadata": {
    "application/vnd.databricks.v1+cell": {
     "cellMetadata": {
      "byteLimit": 2048000,
      "rowLimit": 10000
     },
     "inputWidgets": {},
     "nuid": "2f76038c-7af8-4717-9c38-0d3ff16edc0a",
     "showTitle": false,
     "tableResultSettingsMap": {},
     "title": ""
    }
   },
   "outputs": [],
   "source": [
    "offers = spark.table(\"default.offers\")\n",
    "profiles = spark.table(\"default.profile\")\n",
    "transactions = spark.table(\"default.transactions\")"
   ]
  },
  {
   "cell_type": "code",
   "execution_count": 0,
   "metadata": {
    "application/vnd.databricks.v1+cell": {
     "cellMetadata": {
      "byteLimit": 2048000,
      "rowLimit": 10000
     },
     "inputWidgets": {},
     "nuid": "caf42b2b-a0c5-4cf6-830f-c05e27632583",
     "showTitle": false,
     "tableResultSettingsMap": {},
     "title": ""
    }
   },
   "outputs": [
    {
     "output_type": "stream",
     "name": "stdout",
     "output_type": "stream",
     "text": [
      "Data loaded successfully:\nProfiles: 17000 records\nOffers: 10 records\nTransactions: 306534 records\n"
     ]
    }
   ],
   "source": [
    "print(\"Data loaded successfully:\")\n",
    "print(f\"Profiles: {profiles.count()} records\")\n",
    "print(f\"Offers: {offers.count()} records\") \n",
    "print(f\"Transactions: {transactions.count()} records\")"
   ]
  },
  {
   "cell_type": "code",
   "execution_count": 0,
   "metadata": {
    "application/vnd.databricks.v1+cell": {
     "cellMetadata": {
      "byteLimit": 2048000,
      "rowLimit": 10000
     },
     "inputWidgets": {},
     "nuid": "b548f04c-b636-4323-a78c-efd8bdabb99a",
     "showTitle": false,
     "tableResultSettingsMap": {},
     "title": ""
    }
   },
   "outputs": [
    {
     "output_type": "stream",
     "name": "stdout",
     "output_type": "stream",
     "text": [
      "Profile processing completed\n+---+-----------------+------+--------------------+-------------+-------------------+---------------------+---------------+----------------------+-------------------+------------------------+---------------------------+\n|age|credit_card_limit|gender|                  id|registered_on|days_since_register|months_since_register|is_new_customer|is_continuous_customer|is_tenured_customer|is_high_tenured_customer|is_extreme_tenured_customer|\n+---+-----------------+------+--------------------+-------------+-------------------+---------------------+---------------+----------------------+-------------------+------------------------+---------------------------+\n|118|             NULL|  NULL|68be06ca386d4c319...|   2017-02-12|                530|   17.666666666666668|          false|                 false|               true|                   false|                      false|\n| 55|         112000.0|     F|0610b486422d4921a...|   2017-07-15|                377|   12.566666666666666|          false|                 false|               true|                   false|                      false|\n|118|             NULL|  NULL|38fe809add3b4fcf9...|   2018-07-12|                 15|                  0.5|           true|                 false|              false|                   false|                      false|\n| 75|         100000.0|     F|78afa995795e4d85b...|   2017-05-09|                444|                 14.8|          false|                 false|               true|                   false|                      false|\n|118|             NULL|  NULL|a03223e636434f42a...|   2017-08-04|                357|                 11.9|          false|                  true|              false|                   false|                      false|\n+---+-----------------+------+--------------------+-------------+-------------------+---------------------+---------------+----------------------+-------------------+------------------------+---------------------------+\nonly showing top 5 rows\n"
     ]
    }
   ],
   "source": [
    "profiles_processed = profiles.withColumn(\n",
    "    \"registered_on\", \n",
    "    to_date(col(\"registered_on\").cast(\"string\"), \"yyyyMMdd\")\n",
    ").withColumn(\n",
    "    \"today\", \n",
    "    lit(\"2018-07-27\").cast(\"date\")\n",
    ").withColumn(\n",
    "    \"days_since_register\",\n",
    "    greatest(\n",
    "        datediff(col(\"today\"), col(\"registered_on\")),\n",
    "        lit(0)\n",
    "    ).cast(\"long\")\n",
    ").withColumn(\n",
    "    \"months_since_register\",\n",
    "    col(\"days_since_register\") / 30.0\n",
    ")\n",
    "\n",
    "profiles_processed = profiles_processed.withColumn(\n",
    "    \"is_new_customer\", \n",
    "    (col(\"months_since_register\") <= 8).cast(\"boolean\")\n",
    ").withColumn(\n",
    "    \"is_continuous_customer\",\n",
    "    ((col(\"months_since_register\") > 8) & (col(\"months_since_register\") <= 12)).cast(\"boolean\")\n",
    ").withColumn(\n",
    "    \"is_tenured_customer\",\n",
    "    ((col(\"months_since_register\") > 12) & (col(\"months_since_register\") <= 26)).cast(\"boolean\")\n",
    ").withColumn(\n",
    "    \"is_high_tenured_customer\",\n",
    "    ((col(\"months_since_register\") > 26) & (col(\"months_since_register\") <= 46)).cast(\"boolean\")\n",
    ").withColumn(\n",
    "    \"is_extreme_tenured_customer\",\n",
    "    ((col(\"months_since_register\") > 46) & (col(\"months_since_register\") <= 57)).cast(\"boolean\")\n",
    ")\n",
    "\n",
    "profiles_processed = profiles_processed.drop(\"today\")\n",
    "\n",
    "print(\"Profile processing completed\")\n",
    "profiles_processed.show(5)"
   ]
  },
  {
   "cell_type": "code",
   "execution_count": 0,
   "metadata": {
    "application/vnd.databricks.v1+cell": {
     "cellMetadata": {
      "byteLimit": 2048000,
      "rowLimit": 10000
     },
     "inputWidgets": {},
     "nuid": "627a7473-d3be-4075-b950-75c8b763ada8",
     "showTitle": false,
     "tableResultSettingsMap": {},
     "title": ""
    }
   },
   "outputs": [
    {
     "output_type": "stream",
     "name": "stdout",
     "output_type": "stream",
     "text": [
      "Offer processing completed\n+--------------------+--------------+--------+--------------------+---------+-------------+--------+---------+----------+----------+-------+\n|            channels|discount_value|duration|                  id|min_value|   offer_type|category|has_email|has_mobile|has_social|has_web|\n+--------------------+--------------+--------+--------------------+---------+-------------+--------+---------+----------+----------+-------+\n|[email, mobile, s...|            10|     7.0|ae264e3637204a6fb...|       10|         bogo|       0|     true|      true|      true|  false|\n|[web, email, mobi...|            10|     5.0|4d5c57ea9a6940dd8...|       10|         bogo|       1|     true|      true|      true|   true|\n|[web, email, mobile]|             0|     4.0|3f207df678b143eea...|        0|informational|       2|     true|      true|     false|   true|\n|[web, email, mobile]|             5|     7.0|9b98b8c7a33c4b65b...|        5|         bogo|       3|     true|      true|     false|   true|\n|        [web, email]|             5|    10.0|0b1e1539f2cc45b7b...|       20|     discount|       4|     true|     false|     false|   true|\n+--------------------+--------------+--------+--------------------+---------+-------------+--------+---------+----------+----------+-------+\nonly showing top 5 rows\n"
     ]
    }
   ],
   "source": [
    "offers_processed = offers.withColumn(\"category\", monotonically_increasing_id())\n",
    "\n",
    "channel_types = [\"email\", \"mobile\", \"social\", \"web\"]\n",
    "\n",
    "for channel in channel_types:\n",
    "    offers_processed = offers_processed.withColumn(\n",
    "        f\"has_{channel}\",\n",
    "        array_contains(col(\"channels\"), channel)\n",
    "    )\n",
    "\n",
    "print(\"Offer processing completed\")\n",
    "offers_processed.show(5)\n"
   ]
  },
  {
   "cell_type": "code",
   "execution_count": 0,
   "metadata": {
    "application/vnd.databricks.v1+cell": {
     "cellMetadata": {
      "byteLimit": 2048000,
      "rowLimit": 10000
     },
     "inputWidgets": {},
     "nuid": "a7608959-53b6-4e6b-8752-9a5291a2a52b",
     "showTitle": false,
     "tableResultSettingsMap": {},
     "title": ""
    }
   },
   "outputs": [
    {
     "output_type": "stream",
     "name": "stdout",
     "output_type": "stream",
     "text": [
      "Transaction processing completed\n+--------------------+--------------+---------------------+--------------------+------+\n|          account_id|         event|time_since_test_start|            offer_id|amount|\n+--------------------+--------------+---------------------+--------------------+------+\n|78afa995795e4d85b...|offer received|                  0.0|9b98b8c7a33c4b65b...|  NULL|\n|a03223e636434f42a...|offer received|                  0.0|0b1e1539f2cc45b7b...|  NULL|\n|e2127556f4f64592b...|offer received|                  0.0|2906b810c7d441179...|  NULL|\n|8ec6ce2a7e7949b1b...|offer received|                  0.0|fafdcd668e3743c1b...|  NULL|\n|68617ca6246f4fbc8...|offer received|                  0.0|4d5c57ea9a6940dd8...|  NULL|\n+--------------------+--------------+---------------------+--------------------+------+\nonly showing top 5 rows\n"
     ]
    }
   ],
   "source": [
    "from pyspark.sql.functions import get_json_object, col\n",
    "\n",
    "transactions_processed = transactions.withColumn(\n",
    "    \"offer_id\",\n",
    "    coalesce(\n",
    "        get_json_object(col(\"value\"), \"$.offer_id\"),\n",
    "        get_json_object(col(\"value\"), \"$.offer id\")\n",
    "    )\n",
    ").withColumn(\n",
    "    \"amount\",\n",
    "    get_json_object(col(\"value\"), \"$.amount\")\n",
    ").drop(\"value\")\n",
    "\n",
    "print(\"Transaction processing completed\")\n",
    "transactions_processed.show(5)"
   ]
  },
  {
   "cell_type": "code",
   "execution_count": 0,
   "metadata": {
    "application/vnd.databricks.v1+cell": {
     "cellMetadata": {
      "byteLimit": 2048000,
      "rowLimit": 10000
     },
     "inputWidgets": {},
     "nuid": "4bc853af-cb28-437b-86e9-b4d27034c744",
     "showTitle": false,
     "tableResultSettingsMap": {},
     "title": ""
    }
   },
   "outputs": [
    {
     "output_type": "stream",
     "name": "stdout",
     "output_type": "stream",
     "text": [
      "Data merging completed\nMerged dataset: 306534 records\n"
     ]
    }
   ],
   "source": [
    "offers_processed_renamed = offers_processed.withColumnRenamed(\"id\", \"offer_id\")\n",
    "\n",
    "data = transactions_processed.alias(\"t\").join(\n",
    "    profiles_processed.alias(\"p\").select([col(c).alias(f\"profile_{c}\") for c in profiles_processed.columns]),\n",
    "    col(\"t.account_id\") == col(\"profile_id\"),\n",
    "    \"left\"\n",
    ").join(\n",
    "    offers_processed_renamed.alias(\"o\").select([col(c).alias(f\"offer_{c}\") for c in offers_processed_renamed.columns]),\n",
    "    col(\"t.offer_id\") == col(\"offer_offer_id\"),\n",
    "    \"left\"\n",
    ")\n",
    "\n",
    "print(\"Data merging completed\")\n",
    "print(f\"Merged dataset: {data.count()} records\")"
   ]
  },
  {
   "cell_type": "code",
   "execution_count": 0,
   "metadata": {
    "application/vnd.databricks.v1+cell": {
     "cellMetadata": {
      "byteLimit": 2048000,
      "rowLimit": 10000
     },
     "inputWidgets": {},
     "nuid": "8101b813-25ff-4f93-a53d-c8dc6c5b9b3f",
     "showTitle": false,
     "tableResultSettingsMap": {},
     "title": ""
    }
   },
   "outputs": [
    {
     "output_type": "stream",
     "name": "stdout",
     "output_type": "stream",
     "text": [
      "Offer labeling completed\n+--------------------+--------------------+---------------------+--------------+-----+\n|          account_id|            offer_id|time_since_test_start|offer_duration|label|\n+--------------------+--------------------+---------------------+--------------+-----+\n|7eb85a133c7e4a7d9...|2298d6c36e964ae4a...|                  0.0|           7.0|    1|\n|8d49501a3a90477da...|f19421c1d4aa40978...|                  0.0|           5.0|    1|\n|00d791e20c564add8...|2298d6c36e964ae4a...|                  0.0|           7.0|    1|\n|4de18cbefc364c788...|2298d6c36e964ae4a...|                  0.0|           7.0|    0|\n|166a75c9081b47c29...|4d5c57ea9a6940dd8...|                  0.0|           5.0|    1|\n+--------------------+--------------------+---------------------+--------------+-----+\nonly showing top 5 rows\n"
     ]
    }
   ],
   "source": [
    "offers_received = data.filter(col(\"event\") == \"offer received\")\n",
    "offers_completed = transactions_processed.filter(col(\"event\") == \"offer completed\").withColumnRenamed(\"time_since_test_start\", \"completion_time\")\n",
    "\n",
    "merged_offers = offers_received.alias(\"r\").join(\n",
    "    offers_completed.alias(\"c\").select(\"account_id\", \"offer_id\", \"completion_time\"),\n",
    "    [\"account_id\", \"offer_id\"],\n",
    "    \"left\"\n",
    ").withColumn(\n",
    "    \"label\",\n",
    "    when(\n",
    "        (col(\"completion_time\").isNotNull()) &\n",
    "        (col(\"completion_time\") >= col(\"time_since_test_start\")) &\n",
    "        (col(\"completion_time\") <= (col(\"time_since_test_start\") + col(\"offer_duration\"))),\n",
    "        1\n",
    "    ).otherwise(0)\n",
    ")\n",
    "\n",
    "# Group by to get max label per offer instance\n",
    "offers_received_labeled = merged_offers.groupBy(\n",
    "    \"account_id\", \"offer_id\", \"time_since_test_start\", \"offer_duration\"\n",
    ").agg(\n",
    "    max(\"label\").alias(\"label\")\n",
    ")\n",
    "\n",
    "print(\"Offer labeling completed\")\n",
    "offers_received_labeled.show(5)"
   ]
  },
  {
   "cell_type": "code",
   "execution_count": 0,
   "metadata": {
    "application/vnd.databricks.v1+cell": {
     "cellMetadata": {
      "byteLimit": 2048000,
      "rowLimit": 10000
     },
     "inputWidgets": {},
     "nuid": "2ccd9e8f-dc72-4c49-8c9d-7c17d491e438",
     "showTitle": false,
     "tableResultSettingsMap": {},
     "title": ""
    }
   },
   "outputs": [],
   "source": [
    "tx = transactions_processed.filter(col(\"event\") == \"transaction\")\n",
    "\n",
    "daily_tx = tx.groupBy(\"account_id\", \"time_since_test_start\").agg(\n",
    "    sum(\"amount\").alias(\"daily_spent\"),\n",
    "    count(\"amount\").alias(\"daily_count\")\n",
    ")\n",
    "\n",
    "# Calculate cumulative features using window functions\n",
    "window_spec = Window.partitionBy(\"account_id\").orderBy(\"time_since_test_start\")\n",
    "\n",
    "daily_tx_with_cum = daily_tx.withColumn(\n",
    "    \"cum_spent\",\n",
    "    sum(\"daily_spent\").over(window_spec)\n",
    ").withColumn(\n",
    "    \"cum_count\",\n",
    "    sum(\"daily_count\").over(window_spec)\n",
    ")\n"
   ]
  },
  {
   "cell_type": "code",
   "execution_count": 0,
   "metadata": {
    "application/vnd.databricks.v1+cell": {
     "cellMetadata": {
      "byteLimit": 2048000,
      "rowLimit": 10000
     },
     "inputWidgets": {},
     "nuid": "44d3df4d-90e2-4b4b-924d-18dd32c20b6a",
     "showTitle": false,
     "tableResultSettingsMap": {},
     "title": ""
    }
   },
   "outputs": [
    {
     "output_type": "stream",
     "name": "stdout",
     "output_type": "stream",
     "text": [
      "Historical transaction features completed\n+--------------------+---------------------+--------------+--------------------+------+-----------+-------------------------+--------------+--------------------+---------------------+---------------------------+-----------------------------+-----------------------+------------------------------+---------------------------+--------------------------------+-----------------------------------+--------------------+--------------------+--------------+--------------------+---------------+----------------+--------------+---------------+----------------+----------------+-------------+-----------+-----------+---------+---------+----------+----------+\n|          account_id|time_since_test_start|         event|            offer_id|amount|profile_age|profile_credit_card_limit|profile_gender|          profile_id|profile_registered_on|profile_days_since_register|profile_months_since_register|profile_is_new_customer|profile_is_continuous_customer|profile_is_tenured_customer|profile_is_high_tenured_customer|profile_is_extreme_tenured_customer|      offer_channels|offer_discount_value|offer_duration|      offer_offer_id|offer_min_value|offer_offer_type|offer_category|offer_has_email|offer_has_mobile|offer_has_social|offer_has_web|daily_spent|daily_count|cum_spent|cum_count|hist_spent|hist_count|\n+--------------------+---------------------+--------------+--------------------+------+-----------+-------------------------+--------------+--------------------+---------------------+---------------------------+-----------------------------+-----------------------+------------------------------+---------------------------+--------------------------------+-----------------------------------+--------------------+--------------------+--------------+--------------------+---------------+----------------+--------------+---------------+----------------+----------------+-------------+-----------+-----------+---------+---------+----------+----------+\n|78afa995795e4d85b...|                  0.0|offer received|9b98b8c7a33c4b65b...|  NULL|         75|                 100000.0|             F|78afa995795e4d85b...|           2017-05-09|                        444|                         14.8|                  false|                         false|                       true|                           false|                              false|[web, email, mobile]|                   5|           7.0|9b98b8c7a33c4b65b...|              5|            bogo|             3|           true|            true|           false|         true|        0.0|          0|      0.0|        0|       0.0|         0|\n|a03223e636434f42a...|                  0.0|offer received|0b1e1539f2cc45b7b...|  NULL|        118|                     NULL|          NULL|a03223e636434f42a...|           2017-08-04|                        357|                         11.9|                  false|                          true|                      false|                           false|                              false|        [web, email]|                   5|          10.0|0b1e1539f2cc45b7b...|             20|        discount|             4|           true|           false|           false|         true|        0.0|          0|      0.0|        0|       0.0|         0|\n|e2127556f4f64592b...|                  0.0|offer received|2906b810c7d441179...|  NULL|         68|                  70000.0|             M|e2127556f4f64592b...|           2018-04-26|                         92|            3.066666666666667|                   true|                         false|                      false|                           false|                              false|[web, email, mobile]|                   2|           7.0|2906b810c7d441179...|             10|        discount|             9|           true|            true|           false|         true|        0.0|          0|      0.0|        0|       0.0|         0|\n|8ec6ce2a7e7949b1b...|                  0.0|offer received|fafdcd668e3743c1b...|  NULL|        118|                     NULL|          NULL|8ec6ce2a7e7949b1b...|           2017-09-25|                        305|           10.166666666666666|                  false|                          true|                      false|                           false|                              false|[web, email, mobi...|                   2|          10.0|fafdcd668e3743c1b...|             10|        discount|             6|           true|            true|            true|         true|        0.0|          0|      0.0|        0|       0.0|         0|\n|68617ca6246f4fbc8...|                  0.0|offer received|4d5c57ea9a6940dd8...|  NULL|        118|                     NULL|          NULL|68617ca6246f4fbc8...|           2017-10-02|                        298|            9.933333333333334|                  false|                          true|                      false|                           false|                              false|[web, email, mobi...|                  10|           5.0|4d5c57ea9a6940dd8...|             10|            bogo|             1|           true|            true|            true|         true|        0.0|          0|      0.0|        0|       0.0|         0|\n+--------------------+---------------------+--------------+--------------------+------+-----------+-------------------------+--------------+--------------------+---------------------+---------------------------+-----------------------------+-----------------------+------------------------------+---------------------------+--------------------------------+-----------------------------------+--------------------+--------------------+--------------+--------------------+---------------+----------------+--------------+---------------+----------------+----------------+-------------+-----------+-----------+---------+---------+----------+----------+\nonly showing top 5 rows\n"
     ]
    }
   ],
   "source": [
    "offers_received_w_daily = offers_received.join(\n",
    "    daily_tx_with_cum,\n",
    "    [\"account_id\", \"time_since_test_start\"],\n",
    "    \"left\"\n",
    ").fillna(0, [\"daily_spent\", \"daily_count\", \"cum_spent\", \"cum_count\"]).withColumn(\n",
    "    \"hist_spent\",\n",
    "    col(\"cum_spent\") - col(\"daily_spent\")\n",
    ").withColumn(\n",
    "    \"hist_count\", \n",
    "    col(\"cum_count\") - col(\"daily_count\")\n",
    ")\n",
    "\n",
    "print(\"Historical transaction features completed\")\n",
    "offers_received_w_daily.show(5)"
   ]
  },
  {
   "cell_type": "code",
   "execution_count": 0,
   "metadata": {
    "application/vnd.databricks.v1+cell": {
     "cellMetadata": {
      "byteLimit": 2048000,
      "rowLimit": 10000
     },
     "inputWidgets": {},
     "nuid": "c6d10526-d030-486d-a8df-e6bb02580426",
     "showTitle": false,
     "tableResultSettingsMap": {},
     "title": ""
    }
   },
   "outputs": [
    {
     "output_type": "stream",
     "name": "stdout",
     "output_type": "stream",
     "text": [
      "Rolling window features completed\n+--------------------+---------------------+-----------+-----------+------------------+-----------------+\n|          account_id|time_since_test_start|daily_spent|daily_count| rolling_spent_30d|rolling_count_30d|\n+--------------------+---------------------+-----------+-----------+------------------+-----------------+\n|0020c2b971eb4e918...|                 2.25|      17.63|          1|               0.0|                0|\n|0020c2b971eb4e918...|                 2.75|       32.0|          1|             17.63|                1|\n|0020c2b971eb4e918...|                  3.0|      24.39|          1|49.629999999999995|                2|\n|0020c2b971eb4e918...|                  6.0|      24.31|          1|             74.02|                3|\n|0020c2b971eb4e918...|                21.25|      17.24|          1|             98.33|                4|\n+--------------------+---------------------+-----------+-----------+------------------+-----------------+\nonly showing top 5 rows\n"
     ]
    }
   ],
   "source": [
    "window_30d = Window.partitionBy(\"account_id\").orderBy(\"time_since_test_start\").rowsBetween(-30, -1)\n",
    "\n",
    "daily_tx_with_rolling = daily_tx.withColumn(\n",
    "    \"rolling_spent_30d\",\n",
    "    coalesce(sum(\"daily_spent\").over(window_30d), lit(0))\n",
    ").withColumn(\n",
    "    \"rolling_count_30d\",\n",
    "    coalesce(sum(\"daily_count\").over(window_30d), lit(0))\n",
    ")\n",
    "\n",
    "print(\"Rolling window features completed\")\n",
    "daily_tx_with_rolling.show(5)"
   ]
  },
  {
   "cell_type": "code",
   "execution_count": 0,
   "metadata": {
    "application/vnd.databricks.v1+cell": {
     "cellMetadata": {
      "byteLimit": 2048000,
      "rowLimit": 10000
     },
     "inputWidgets": {},
     "nuid": "62ff0120-13e9-4a55-83f8-321aa15f61d3",
     "showTitle": false,
     "tableResultSettingsMap": {},
     "title": ""
    }
   },
   "outputs": [],
   "source": [
    "offers_received_all = data.filter(col(\"event\") == \"offer received\").withColumn(\"offer_count\", lit(1))\n",
    "\n",
    "# Calculate cumulative offers received\n",
    "window_offers = Window.partitionBy(\"account_id\").orderBy(\"time_since_test_start\")\n",
    "offers_received_all = offers_received_all.withColumn(\n",
    "    \"cum_offers_received\",\n",
    "    sum(\"offer_count\").over(window_offers)\n",
    ")\n",
    "\n",
    "# Join with completion data\n",
    "offers_completed_all = data.filter(col(\"event\") == \"offer completed\").select(\n",
    "    \"account_id\", \"offer_id\", col(\"time_since_test_start\").alias(\"completion_time\")\n",
    ")\n",
    "\n",
    "offers_with_completion = offers_received_all.join(\n",
    "    offers_completed_all,\n",
    "    [\"account_id\", \"offer_id\"],\n",
    "    \"left\"\n",
    ").withColumn(\n",
    "    \"completed_before\",\n",
    "    when(\n",
    "        col(\"completion_time\").isNotNull() &\n",
    "        (col(\"completion_time\") < col(\"time_since_test_start\")),\n",
    "        1\n",
    "    ).otherwise(0)\n",
    ")"
   ]
  },
  {
   "cell_type": "code",
   "execution_count": 0,
   "metadata": {
    "application/vnd.databricks.v1+cell": {
     "cellMetadata": {
      "byteLimit": 2048000,
      "rowLimit": 10000
     },
     "inputWidgets": {},
     "nuid": "c58becd5-ab6b-404d-a5f4-536693f804f4",
     "showTitle": false,
     "tableResultSettingsMap": {},
     "title": ""
    }
   },
   "outputs": [
    {
     "output_type": "stream",
     "name": "stdout",
     "output_type": "stream",
     "text": [
      "Historical offer completion rate completed\n+--------------------+--------------------+---------------------+--------------------------+\n|          account_id|            offer_id|time_since_test_start|hist_offer_completion_rate|\n+--------------------+--------------------+---------------------+--------------------------+\n|004b041fbfe448599...|3f207df678b143eea...|                  7.0|                       0.0|\n|004b041fbfe448599...|f19421c1d4aa40978...|                 21.0|                       0.0|\n|004b041fbfe448599...|fafdcd668e3743c1b...|                 24.0|                       0.0|\n|00840a2ca5d2408e9...|2906b810c7d441179...|                  0.0|                       0.0|\n|00840a2ca5d2408e9...|fafdcd668e3743c1b...|                  7.0|                       0.0|\n+--------------------+--------------------+---------------------+--------------------------+\nonly showing top 5 rows\n"
     ]
    }
   ],
   "source": [
    "offers_with_completion = offers_with_completion.withColumn(\n",
    "    \"cum_completed_before\",\n",
    "    sum(\"completed_before\").over(window_offers)\n",
    ").withColumn(\n",
    "    \"hist_offer_completion_rate\",\n",
    "    when(\n",
    "        col(\"cum_offers_received\") > 1,\n",
    "        (col(\"cum_completed_before\") - col(\"completed_before\")) / (col(\"cum_offers_received\") - 1)\n",
    "    ).otherwise(0)\n",
    ")\n",
    "\n",
    "hist_completion = offers_with_completion.select(\n",
    "    \"account_id\", \"offer_id\", \"time_since_test_start\", \"hist_offer_completion_rate\"\n",
    ")\n",
    "\n",
    "print(\"Historical offer completion rate completed\")\n",
    "hist_completion.show(5)"
   ]
  },
  {
   "cell_type": "code",
   "execution_count": 0,
   "metadata": {
    "application/vnd.databricks.v1+cell": {
     "cellMetadata": {
      "byteLimit": 2048000,
      "rowLimit": 10000
     },
     "inputWidgets": {},
     "nuid": "70a162fb-2ffa-45f7-a65d-f6c3afb50006",
     "showTitle": false,
     "tableResultSettingsMap": {},
     "title": ""
    }
   },
   "outputs": [
    {
     "output_type": "stream",
     "name": "stdout",
     "output_type": "stream",
     "text": [
      "Final dataset assembly completed\nFinal dataset shape: 86432 rows, 27 columns\n+--------------------+--------------------+---------------------+--------------+-----+----------+----------+--------+---------+----------+--------------+---------+----------+----------+-------+---+------+---------------------+---------------+----------------------+-------------------+------------------------+---------------------------+-----------------+-----------------+-----------------+--------------------------+\n|          account_id|            offer_id|time_since_test_start|offer_duration|label|hist_spent|hist_count|duration|min_value|offer_type|discount_value|has_email|has_mobile|has_social|has_web|age|gender|months_since_register|is_new_customer|is_continuous_customer|is_tenured_customer|is_high_tenured_customer|is_extreme_tenured_customer|credit_card_limit|rolling_spent_30d|rolling_count_30d|hist_offer_completion_rate|\n+--------------------+--------------------+---------------------+--------------+-----+----------+----------+--------+---------+----------+--------------+---------+----------+----------+-------+---+------+---------------------+---------------+----------------------+-------------------+------------------------+---------------------------+-----------------+-----------------+-----------------+--------------------------+\n|7eb85a133c7e4a7d9...|2298d6c36e964ae4a...|                  0.0|           7.0|    1|       0.0|         0|     7.0|        7|  discount|             3|     true|      true|      true|   true| 69|     M|                 13.4|          false|                 false|               true|                   false|                      false|          72000.0|              0.0|                0|                       0.0|\n|8d49501a3a90477da...|f19421c1d4aa40978...|                  0.0|           5.0|    1|       0.0|         0|     5.0|        5|      bogo|             5|     true|      true|      true|   true| 59|     F|                 35.2|          false|                 false|              false|                    true|                      false|          52000.0|              0.0|                0|                       0.0|\n|00d791e20c564add8...|2298d6c36e964ae4a...|                  0.0|           7.0|    1|       0.0|         0|     7.0|        7|  discount|             3|     true|      true|      true|   true| 22|     M|   31.533333333333335|          false|                 false|              false|                    true|                      false|          32000.0|              0.0|                0|                       0.0|\n|4de18cbefc364c788...|2298d6c36e964ae4a...|                  0.0|           7.0|    0|       0.0|         0|     7.0|        7|  discount|             3|     true|      true|      true|   true| 51|     M|                 11.4|          false|                  true|              false|                   false|                      false|          59000.0|              0.0|                0|                       0.0|\n|166a75c9081b47c29...|4d5c57ea9a6940dd8...|                  0.0|           5.0|    1|       0.0|         0|     5.0|       10|      bogo|            10|     true|      true|      true|   true| 53|     F|    36.13333333333333|          false|                 false|              false|                    true|                      false|          94000.0|              0.0|                0|                       0.0|\n+--------------------+--------------------+---------------------+--------------+-----+----------+----------+--------+---------+----------+--------------+---------+----------+----------+-------+---+------+---------------------+---------------+----------------------+-------------------+------------------------+---------------------------+-----------------+-----------------+-----------------+--------------------------+\nonly showing top 5 rows\n"
     ]
    }
   ],
   "source": [
    "dataset = offers_received_labeled.join(\n",
    "    offers_received_w_daily.select(\"account_id\", \"offer_id\", \"time_since_test_start\", \"hist_spent\", \"hist_count\"),\n",
    "    [\"account_id\", \"offer_id\", \"time_since_test_start\"],\n",
    "    \"left\"\n",
    ")\n",
    "\n",
    "# Add offer features\n",
    "dataset = dataset.join(\n",
    "    offers_processed.select(\n",
    "        \"id\", \"duration\", \"min_value\", \"offer_type\", \"discount_value\", \n",
    "        \"has_email\", \"has_mobile\", \"has_social\", \"has_web\"\n",
    "    ),\n",
    "    col(\"offer_id\") == col(\"id\"),\n",
    "    \"left\"\n",
    ").drop(\"id\")\n",
    "\n",
    "# Add profile features  \n",
    "dataset = dataset.join(\n",
    "    profiles_processed.select(\n",
    "        \"id\", \"age\", \"gender\", \"months_since_register\", \"is_new_customer\",\n",
    "        \"is_continuous_customer\", \"is_tenured_customer\", \"is_high_tenured_customer\",\n",
    "        \"is_extreme_tenured_customer\", \"credit_card_limit\"\n",
    "    ),\n",
    "    col(\"account_id\") == col(\"id\"),\n",
    "    \"left\"\n",
    ").drop(\"id\")\n",
    "\n",
    "# Add rolling features\n",
    "dataset = dataset.join(\n",
    "    daily_tx_with_rolling.select(\"account_id\", \"time_since_test_start\", \"rolling_spent_30d\", \"rolling_count_30d\"),\n",
    "    [\"account_id\", \"time_since_test_start\"],\n",
    "    \"left\"\n",
    ").fillna(0, [\"rolling_spent_30d\", \"rolling_count_30d\"])\n",
    "\n",
    "# Add historical completion rate\n",
    "dataset = dataset.join(\n",
    "    hist_completion,\n",
    "    [\"account_id\", \"offer_id\", \"time_since_test_start\"],\n",
    "    \"left\"\n",
    ").fillna(0, [\"hist_offer_completion_rate\"])\n",
    "\n",
    "print(\"Final dataset assembly completed\")\n",
    "print(f\"Final dataset shape: {dataset.count()} rows, {len(dataset.columns)} columns\")\n",
    "dataset.show(5)"
   ]
  },
  {
   "cell_type": "code",
   "execution_count": 0,
   "metadata": {
    "application/vnd.databricks.v1+cell": {
     "cellMetadata": {
      "byteLimit": 2048000,
      "rowLimit": 10000
     },
     "inputWidgets": {},
     "nuid": "fb2111e4-bd16-43e3-a67d-7ff01e14e06d",
     "showTitle": false,
     "tableResultSettingsMap": {},
     "title": ""
    }
   },
   "outputs": [
    {
     "output_type": "stream",
     "name": "stdout",
     "output_type": "stream",
     "text": [
      "Dataset Schema:\nroot\n |-- account_id: string (nullable = true)\n |-- offer_id: string (nullable = true)\n |-- time_since_test_start: double (nullable = true)\n |-- offer_duration: double (nullable = true)\n |-- label: integer (nullable = true)\n |-- hist_spent: double (nullable = true)\n |-- hist_count: long (nullable = true)\n |-- duration: double (nullable = true)\n |-- min_value: long (nullable = true)\n |-- offer_type: string (nullable = true)\n |-- discount_value: long (nullable = true)\n |-- has_email: boolean (nullable = true)\n |-- has_mobile: boolean (nullable = true)\n |-- has_social: boolean (nullable = true)\n |-- has_web: boolean (nullable = true)\n |-- age: long (nullable = true)\n |-- gender: string (nullable = true)\n |-- months_since_register: double (nullable = true)\n |-- is_new_customer: boolean (nullable = true)\n |-- is_continuous_customer: boolean (nullable = true)\n |-- is_tenured_customer: boolean (nullable = true)\n |-- is_high_tenured_customer: boolean (nullable = true)\n |-- is_extreme_tenured_customer: boolean (nullable = true)\n |-- credit_card_limit: double (nullable = true)\n |-- rolling_spent_30d: double (nullable = false)\n |-- rolling_count_30d: long (nullable = false)\n |-- hist_offer_completion_rate: double (nullable = false)\n\n\nDataset Summary:\n+-------+--------------------+--------------------+---------------------+------------------+------------------+-----------------+-------------------+------------------+-----------------+-------------+------------------+-----------------+------+---------------------+------------------+-----------------+-------------------+--------------------------+\n|summary|          account_id|            offer_id|time_since_test_start|    offer_duration|             label|       hist_spent|         hist_count|          duration|        min_value|   offer_type|    discount_value|              age|gender|months_since_register| credit_card_limit|rolling_spent_30d|  rolling_count_30d|hist_offer_completion_rate|\n+-------+--------------------+--------------------+---------------------+------------------+------------------+-----------------+-------------------+------------------+-----------------+-------------+------------------+-----------------+------+---------------------+------------------+-----------------+-------------------+--------------------------+\n|  count|               86432|               86432|                86432|             86432|             86432|            86432|              86432|             86432|            86432|        86432|             86432|            86432| 76469|                86432|             76469|            86432|              86432|                     86432|\n|   mean|2.565638242424101E31|                NULL|    13.87692058496853| 6.604104961125509|0.5044775083302481|4.623271010736763|0.37473389485375785| 6.604104961125509|7.887668918918919|         NULL| 4.279595520177712|61.91324972232506|  NULL|   17.638582546587557| 66008.74864324105|4.623271010736763|0.37473389485375785|       0.05102392632358399|\n| stddev|                 0.0|                NULL|    8.173875433577878|2.1725426341908722|0.4999828438735722|30.03269399473938|  1.756865040130588|2.1725426341908722|5.408131836839762|         NULL|3.3522741808313836|25.98026346469331|  NULL|   13.627808410475254|21679.788958748737|30.03269399473938|  1.756865040130588|       0.16402716221545707|\n|    min|0009655768c64bdeb...|0b1e1539f2cc45b7b...|                  0.0|               3.0|                 0|              0.0|                  0|               3.0|                0|         bogo|                 0|               18|     F|  0.03333333333333333|           30000.0|              0.0|                  0|                       0.0|\n|    max|ffff82501cea40309...|fafdcd668e3743c1b...|                 24.0|              10.0|                 1|          1236.32|                 25|              10.0|               20|informational|                10|              118|     O|                 60.8|          120000.0|          1236.32|                 25|                       2.0|\n+-------+--------------------+--------------------+---------------------+------------------+------------------+-----------------+-------------------+------------------+-----------------+-------------+------------------+-----------------+------+---------------------+------------------+-----------------+-------------------+--------------------------+\n\n\nNull Value Counts:\n+----------+--------+---------------------+--------------+-----+----------+----------+--------+---------+----------+--------------+---------+----------+----------+-------+---+------+---------------------+---------------+----------------------+-------------------+------------------------+---------------------------+-----------------+-----------------+-----------------+--------------------------+\n|account_id|offer_id|time_since_test_start|offer_duration|label|hist_spent|hist_count|duration|min_value|offer_type|discount_value|has_email|has_mobile|has_social|has_web|age|gender|months_since_register|is_new_customer|is_continuous_customer|is_tenured_customer|is_high_tenured_customer|is_extreme_tenured_customer|credit_card_limit|rolling_spent_30d|rolling_count_30d|hist_offer_completion_rate|\n+----------+--------+---------------------+--------------+-----+----------+----------+--------+---------+----------+--------------+---------+----------+----------+-------+---+------+---------------------+---------------+----------------------+-------------------+------------------------+---------------------------+-----------------+-----------------+-----------------+--------------------------+\n|         0|       0|                    0|             0|    0|         0|         0|       0|        0|         0|             0|        0|         0|         0|      0|  0|  9963|                    0|              0|                     0|                  0|                       0|                          0|             9963|                0|                0|                         0|\n+----------+--------+---------------------+--------------+-----+----------+----------+--------+---------+----------+--------------+---------+----------+----------+-------+---+------+---------------------+---------------+----------------------+-------------------+------------------------+---------------------------+-----------------+-----------------+-----------------+--------------------------+\n\n"
     ]
    }
   ],
   "source": [
    "print(\"Dataset Schema:\")\n",
    "dataset.printSchema()\n",
    "\n",
    "print(\"\\nDataset Summary:\")\n",
    "dataset.describe().show()\n",
    "\n",
    "print(\"\\nNull Value Counts:\")\n",
    "null_counts = dataset.select([count(when(col(c).isNull(), c)).alias(c) for c in dataset.columns])\n",
    "null_counts.show()"
   ]
  },
  {
   "cell_type": "code",
   "execution_count": 0,
   "metadata": {
    "application/vnd.databricks.v1+cell": {
     "cellMetadata": {
      "byteLimit": 2048000,
      "rowLimit": 10000
     },
     "inputWidgets": {},
     "nuid": "58696aaf-40be-4a81-aa98-c74ac36639da",
     "showTitle": false,
     "tableResultSettingsMap": {},
     "title": ""
    }
   },
   "outputs": [
    {
     "output_type": "stream",
     "name": "stdout",
     "output_type": "stream",
     "text": [
      "\nFinal dataset sample:\n+--------------------------------+--------------------------------+---------------------+--------------+-----+----------+----------+--------+---------+----------+--------------+---------+----------+----------+-------+---+------+---------------------+---------------+----------------------+-------------------+------------------------+---------------------------+-----------------+-----------------+-----------------+--------------------------+\n|account_id                      |offer_id                        |time_since_test_start|offer_duration|label|hist_spent|hist_count|duration|min_value|offer_type|discount_value|has_email|has_mobile|has_social|has_web|age|gender|months_since_register|is_new_customer|is_continuous_customer|is_tenured_customer|is_high_tenured_customer|is_extreme_tenured_customer|credit_card_limit|rolling_spent_30d|rolling_count_30d|hist_offer_completion_rate|\n+--------------------------------+--------------------------------+---------------------+--------------+-----+----------+----------+--------+---------+----------+--------------+---------+----------+----------+-------+---+------+---------------------+---------------+----------------------+-------------------+------------------------+---------------------------+-----------------+-----------------+-----------------+--------------------------+\n|7eb85a133c7e4a7d9cac1df25e50d9c8|2298d6c36e964ae4a3e7e9706d1fb8c2|0.0                  |7.0           |1    |0.0       |0         |7.0     |7        |discount  |3             |true     |true      |true      |true   |69 |M     |13.4                 |false          |false                 |true               |false                   |false                      |72000.0          |0.0              |0                |0.0                       |\n|8d49501a3a90477da47e6633109bf8f9|f19421c1d4aa40978ebb69ca19b0e20d|0.0                  |5.0           |1    |0.0       |0         |5.0     |5        |bogo      |5             |true     |true      |true      |true   |59 |F     |35.2                 |false          |false                 |false              |true                    |false                      |52000.0          |0.0              |0                |0.0                       |\n|00d791e20c564add8056498e40eb56cc|2298d6c36e964ae4a3e7e9706d1fb8c2|0.0                  |7.0           |1    |0.0       |0         |7.0     |7        |discount  |3             |true     |true      |true      |true   |22 |M     |31.533333333333335   |false          |false                 |false              |true                    |false                      |32000.0          |0.0              |0                |0.0                       |\n|4de18cbefc364c78875fb6cedfde946f|2298d6c36e964ae4a3e7e9706d1fb8c2|0.0                  |7.0           |0    |0.0       |0         |7.0     |7        |discount  |3             |true     |true      |true      |true   |51 |M     |11.4                 |false          |true                  |false              |false                   |false                      |59000.0          |0.0              |0                |0.0                       |\n|166a75c9081b47c29dd292f227da93c4|4d5c57ea9a6940dd891ad53e9dbe8da0|0.0                  |5.0           |1    |0.0       |0         |5.0     |10       |bogo      |10            |true     |true      |true      |true   |53 |F     |36.13333333333333    |false          |false                 |false              |true                    |false                      |94000.0          |0.0              |0                |0.0                       |\n|7eb85a133c7e4a7d9cac1df25e50d9c8|ae264e3637204a6fb9bb56bc8210ddfd|7.0                  |7.0           |1    |0.0       |0         |7.0     |10       |bogo      |10            |true     |true      |true      |false  |69 |M     |13.4                 |false          |false                 |true               |false                   |false                      |72000.0          |0.0              |0                |0.0                       |\n|8fecd95fe7b54cc2a130e35ba5a77f48|2906b810c7d4411798c6938adc9daaa5|7.0                  |7.0           |1    |0.0       |0         |7.0     |10       |discount  |2             |true     |true      |false     |true   |53 |M     |29.933333333333334   |false          |false                 |false              |true                    |false                      |89000.0          |0.0              |0                |0.0                       |\n|c0ad83c653ef4f1581612a9454441eb4|f19421c1d4aa40978ebb69ca19b0e20d|7.0                  |5.0           |1    |0.0       |0         |5.0     |5        |bogo      |5             |true     |true      |true      |true   |37 |M     |33.333333333333336   |false          |false                 |false              |true                    |false                      |57000.0          |0.0              |0                |0.0                       |\n|876ca8a8eacf44cda53c1403b98e53e9|2298d6c36e964ae4a3e7e9706d1fb8c2|7.0                  |7.0           |1    |0.0       |0         |7.0     |7        |discount  |3             |true     |true      |true      |true   |55 |F     |26.333333333333332   |false          |false                 |false              |true                    |false                      |115000.0         |0.0              |0                |0.0                       |\n|f4996c5638134185b27f27e8bb0adaf1|f19421c1d4aa40978ebb69ca19b0e20d|7.0                  |5.0           |0    |0.0       |0         |5.0     |5        |bogo      |5             |true     |true      |true      |true   |54 |M     |3.3666666666666667   |true           |false                 |false              |false                   |false                      |72000.0          |0.0              |0                |0.0                       |\n+--------------------------------+--------------------------------+---------------------+--------------+-----+----------+----------+--------+---------+----------+--------------+---------+----------+----------+-------+---+------+---------------------+---------------+----------------------+-------------------+------------------------+---------------------------+-----------------+-----------------+-----------------+--------------------------+\nonly showing top 10 rows\n"
     ]
    }
   ],
   "source": [
    "print(\"\\nFinal dataset sample:\")\n",
    "dataset.show(10, truncate=False)"
   ]
  },
  {
   "cell_type": "code",
   "execution_count": 0,
   "metadata": {
    "application/vnd.databricks.v1+cell": {
     "cellMetadata": {
      "byteLimit": 2048000,
      "rowLimit": 10000
     },
     "inputWidgets": {},
     "nuid": "7e14f098-28f9-49ac-82b0-6ce122afc494",
     "showTitle": false,
     "tableResultSettingsMap": {},
     "title": ""
    }
   },
   "outputs": [],
   "source": [
    "dataset.write.mode(\"overwrite\").saveAsTable(\"dataset\")"
   ]
  }
 ],
 "metadata": {
  "application/vnd.databricks.v1+notebook": {
   "computePreferences": null,
   "dashboards": [],
   "environmentMetadata": {
    "base_environment": "",
    "environment_version": "2"
   },
   "inputWidgetPreferences": null,
   "language": "python",
   "notebookMetadata": {
    "mostRecentlyExecutedCommandWithImplicitDF": {
     "commandId": 5448132000915355,
     "dataframes": [
      "_sqldf"
     ]
    },
    "pythonIndentUnit": 4
   },
   "notebookName": "data-processing",
   "widgets": {}
  },
  "language_info": {
   "name": "python"
  }
 },
 "nbformat": 4,
 "nbformat_minor": 0
}